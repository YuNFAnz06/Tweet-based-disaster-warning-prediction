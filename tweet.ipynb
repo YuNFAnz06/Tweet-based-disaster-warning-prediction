{
 "cells": [
  {
   "cell_type": "code",
   "execution_count": 2,
   "metadata": {},
   "outputs": [
    {
     "data": {
      "text/html": [
       "        <script type=\"text/javascript\">\n",
       "        window.PlotlyConfig = {MathJaxConfig: 'local'};\n",
       "        if (window.MathJax) {MathJax.Hub.Config({SVG: {font: \"STIX-Web\"}});}\n",
       "        if (typeof require !== 'undefined') {\n",
       "        require.undef(\"plotly\");\n",
       "        requirejs.config({\n",
       "            paths: {\n",
       "                'plotly': ['https://cdn.plot.ly/plotly-latest.min']\n",
       "            }\n",
       "        });\n",
       "        require(['plotly'], function(Plotly) {\n",
       "            window._Plotly = Plotly;\n",
       "        });\n",
       "        }\n",
       "        </script>\n",
       "        "
      ]
     },
     "metadata": {},
     "output_type": "display_data"
    }
   ],
   "source": [
    "# 导入库\n",
    "\n",
    "#数据处理\n",
    "import numpy as np \n",
    "import pandas as pd #数据计算与处理\n",
    "import re   #用于字符串的匹配，调用方法\n",
    "\n",
    "#自然语言处理工具\n",
    "import nltk  \n",
    "from nltk.corpus import stopwords \n",
    "from nltk.stem.porter import PorterStemmer #词干提取\n",
    "from collections import Counter  #统计频数\n",
    "\n",
    "#可视化工具\n",
    "import seaborn as sns \n",
    "import matplotlib.pyplot as plt  \n",
    "import cufflinks as cf  \n",
    "cf.go_offline() #如果使用online模式，那么生成的图形是有限制的，我们这里先设置为offline模式，这样就避免了出现次数限制问题。\n",
    "from wordcloud import WordCloud, STOPWORDS  #词云图\n",
    "from IPython.core.display import display, HTML  #显示功能\n",
    "import plotly.graph_objects as go  \n",
    "\n",
    "#建模相关\n",
    "from tensorflow.keras.preprocessing.text import Tokenizer  #分词器\n",
    "from tensorflow.keras.preprocessing.sequence import pad_sequences   #序列与处理\n",
    "import tensorflow as tf      #机器学习库\n",
    "from tqdm import tqdm"
   ]
  },
  {
   "cell_type": "code",
   "execution_count": 3,
   "metadata": {},
   "outputs": [],
   "source": [
    "#加载数据\n",
    "\n",
    "train = pd.read_csv(\"D:/机器学习/NLP/nlp-getting-started/train.csv\")\n",
    "test = pd.read_csv(\"D:/机器学习/NLP/nlp-getting-started/test.csv\")\n",
    "submission =  pd.read_csv(\"D:/机器学习/NLP/nlp-getting-started/sample_submission.csv\")"
   ]
  },
  {
   "cell_type": "code",
   "execution_count": 3,
   "metadata": {},
   "outputs": [
    {
     "data": {
      "text/html": [
       "<div>\n",
       "<style scoped>\n",
       "    .dataframe tbody tr th:only-of-type {\n",
       "        vertical-align: middle;\n",
       "    }\n",
       "\n",
       "    .dataframe tbody tr th {\n",
       "        vertical-align: top;\n",
       "    }\n",
       "\n",
       "    .dataframe thead th {\n",
       "        text-align: right;\n",
       "    }\n",
       "</style>\n",
       "<table border=\"1\" class=\"dataframe\">\n",
       "  <thead>\n",
       "    <tr style=\"text-align: right;\">\n",
       "      <th></th>\n",
       "      <th>id</th>\n",
       "      <th>keyword</th>\n",
       "      <th>location</th>\n",
       "      <th>text</th>\n",
       "      <th>target</th>\n",
       "    </tr>\n",
       "  </thead>\n",
       "  <tbody>\n",
       "    <tr>\n",
       "      <th>0</th>\n",
       "      <td>1</td>\n",
       "      <td>NaN</td>\n",
       "      <td>NaN</td>\n",
       "      <td>Our Deeds are the Reason of this #earthquake M...</td>\n",
       "      <td>1</td>\n",
       "    </tr>\n",
       "    <tr>\n",
       "      <th>1</th>\n",
       "      <td>4</td>\n",
       "      <td>NaN</td>\n",
       "      <td>NaN</td>\n",
       "      <td>Forest fire near La Ronge Sask. Canada</td>\n",
       "      <td>1</td>\n",
       "    </tr>\n",
       "    <tr>\n",
       "      <th>2</th>\n",
       "      <td>5</td>\n",
       "      <td>NaN</td>\n",
       "      <td>NaN</td>\n",
       "      <td>All residents asked to 'shelter in place' are ...</td>\n",
       "      <td>1</td>\n",
       "    </tr>\n",
       "    <tr>\n",
       "      <th>3</th>\n",
       "      <td>6</td>\n",
       "      <td>NaN</td>\n",
       "      <td>NaN</td>\n",
       "      <td>13,000 people receive #wildfires evacuation or...</td>\n",
       "      <td>1</td>\n",
       "    </tr>\n",
       "    <tr>\n",
       "      <th>4</th>\n",
       "      <td>7</td>\n",
       "      <td>NaN</td>\n",
       "      <td>NaN</td>\n",
       "      <td>Just got sent this photo from Ruby #Alaska as ...</td>\n",
       "      <td>1</td>\n",
       "    </tr>\n",
       "  </tbody>\n",
       "</table>\n",
       "</div>"
      ],
      "text/plain": [
       "   id keyword location                                               text  \\\n",
       "0   1     NaN      NaN  Our Deeds are the Reason of this #earthquake M...   \n",
       "1   4     NaN      NaN             Forest fire near La Ronge Sask. Canada   \n",
       "2   5     NaN      NaN  All residents asked to 'shelter in place' are ...   \n",
       "3   6     NaN      NaN  13,000 people receive #wildfires evacuation or...   \n",
       "4   7     NaN      NaN  Just got sent this photo from Ruby #Alaska as ...   \n",
       "\n",
       "   target  \n",
       "0       1  \n",
       "1       1  \n",
       "2       1  \n",
       "3       1  \n",
       "4       1  "
      ]
     },
     "execution_count": 3,
     "metadata": {},
     "output_type": "execute_result"
    }
   ],
   "source": [
    "train.head()   #查看训练集样本"
   ]
  },
  {
   "cell_type": "markdown",
   "metadata": {},
   "source": [
    "id：每条推文的唯一标识符\n",
    "text：推文的内容\n",
    "location：发送推文的位置（可以为空白）\n",
    "keyword：推文中的关键字（可以为空白）\n",
    "target：仅在train.csv中，表示一条推文描述的灾难是否真实，真实为（1）或虚假为（0）"
   ]
  },
  {
   "cell_type": "code",
   "execution_count": 4,
   "metadata": {},
   "outputs": [
    {
     "data": {
      "text/html": [
       "<div>\n",
       "<style scoped>\n",
       "    .dataframe tbody tr th:only-of-type {\n",
       "        vertical-align: middle;\n",
       "    }\n",
       "\n",
       "    .dataframe tbody tr th {\n",
       "        vertical-align: top;\n",
       "    }\n",
       "\n",
       "    .dataframe thead th {\n",
       "        text-align: right;\n",
       "    }\n",
       "</style>\n",
       "<table border=\"1\" class=\"dataframe\">\n",
       "  <thead>\n",
       "    <tr style=\"text-align: right;\">\n",
       "      <th></th>\n",
       "      <th>id</th>\n",
       "      <th>keyword</th>\n",
       "      <th>location</th>\n",
       "      <th>text</th>\n",
       "    </tr>\n",
       "  </thead>\n",
       "  <tbody>\n",
       "    <tr>\n",
       "      <th>0</th>\n",
       "      <td>0</td>\n",
       "      <td>NaN</td>\n",
       "      <td>NaN</td>\n",
       "      <td>Just happened a terrible car crash</td>\n",
       "    </tr>\n",
       "    <tr>\n",
       "      <th>1</th>\n",
       "      <td>2</td>\n",
       "      <td>NaN</td>\n",
       "      <td>NaN</td>\n",
       "      <td>Heard about #earthquake is different cities, s...</td>\n",
       "    </tr>\n",
       "    <tr>\n",
       "      <th>2</th>\n",
       "      <td>3</td>\n",
       "      <td>NaN</td>\n",
       "      <td>NaN</td>\n",
       "      <td>there is a forest fire at spot pond, geese are...</td>\n",
       "    </tr>\n",
       "    <tr>\n",
       "      <th>3</th>\n",
       "      <td>9</td>\n",
       "      <td>NaN</td>\n",
       "      <td>NaN</td>\n",
       "      <td>Apocalypse lighting. #Spokane #wildfires</td>\n",
       "    </tr>\n",
       "    <tr>\n",
       "      <th>4</th>\n",
       "      <td>11</td>\n",
       "      <td>NaN</td>\n",
       "      <td>NaN</td>\n",
       "      <td>Typhoon Soudelor kills 28 in China and Taiwan</td>\n",
       "    </tr>\n",
       "  </tbody>\n",
       "</table>\n",
       "</div>"
      ],
      "text/plain": [
       "   id keyword location                                               text\n",
       "0   0     NaN      NaN                 Just happened a terrible car crash\n",
       "1   2     NaN      NaN  Heard about #earthquake is different cities, s...\n",
       "2   3     NaN      NaN  there is a forest fire at spot pond, geese are...\n",
       "3   9     NaN      NaN           Apocalypse lighting. #Spokane #wildfires\n",
       "4  11     NaN      NaN      Typhoon Soudelor kills 28 in China and Taiwan"
      ]
     },
     "execution_count": 4,
     "metadata": {},
     "output_type": "execute_result"
    }
   ],
   "source": [
    "test.head()    #查看测试集样本"
   ]
  },
  {
   "cell_type": "markdown",
   "metadata": {},
   "source": [
    "此处无target列"
   ]
  },
  {
   "cell_type": "code",
   "execution_count": 5,
   "metadata": {},
   "outputs": [
    {
     "data": {
      "application/vnd.plotly.v1+json": {
       "config": {
        "plotlyServerURL": "https://plot.ly"
       },
       "data": [
        {
         "hole": 0.3,
         "hoverinfo": "label+percent+value",
         "labels": [
          0,
          1
         ],
         "pull": [
          0.03,
          0
         ],
         "type": "pie",
         "values": [
          4342,
          3271
         ]
        }
       ],
       "layout": {
        "annotations": [
         {
          "font": {
           "size": 20
          },
          "showarrow": false,
          "text": "Train",
          "x": 0.5,
          "y": 0.5
         }
        ],
        "template": {
         "data": {
          "bar": [
           {
            "error_x": {
             "color": "#2a3f5f"
            },
            "error_y": {
             "color": "#2a3f5f"
            },
            "marker": {
             "line": {
              "color": "#E5ECF6",
              "width": 0.5
             }
            },
            "type": "bar"
           }
          ],
          "barpolar": [
           {
            "marker": {
             "line": {
              "color": "#E5ECF6",
              "width": 0.5
             }
            },
            "type": "barpolar"
           }
          ],
          "carpet": [
           {
            "aaxis": {
             "endlinecolor": "#2a3f5f",
             "gridcolor": "white",
             "linecolor": "white",
             "minorgridcolor": "white",
             "startlinecolor": "#2a3f5f"
            },
            "baxis": {
             "endlinecolor": "#2a3f5f",
             "gridcolor": "white",
             "linecolor": "white",
             "minorgridcolor": "white",
             "startlinecolor": "#2a3f5f"
            },
            "type": "carpet"
           }
          ],
          "choropleth": [
           {
            "colorbar": {
             "outlinewidth": 0,
             "ticks": ""
            },
            "type": "choropleth"
           }
          ],
          "contour": [
           {
            "colorbar": {
             "outlinewidth": 0,
             "ticks": ""
            },
            "colorscale": [
             [
              0,
              "#0d0887"
             ],
             [
              0.1111111111111111,
              "#46039f"
             ],
             [
              0.2222222222222222,
              "#7201a8"
             ],
             [
              0.3333333333333333,
              "#9c179e"
             ],
             [
              0.4444444444444444,
              "#bd3786"
             ],
             [
              0.5555555555555556,
              "#d8576b"
             ],
             [
              0.6666666666666666,
              "#ed7953"
             ],
             [
              0.7777777777777778,
              "#fb9f3a"
             ],
             [
              0.8888888888888888,
              "#fdca26"
             ],
             [
              1,
              "#f0f921"
             ]
            ],
            "type": "contour"
           }
          ],
          "contourcarpet": [
           {
            "colorbar": {
             "outlinewidth": 0,
             "ticks": ""
            },
            "type": "contourcarpet"
           }
          ],
          "heatmap": [
           {
            "colorbar": {
             "outlinewidth": 0,
             "ticks": ""
            },
            "colorscale": [
             [
              0,
              "#0d0887"
             ],
             [
              0.1111111111111111,
              "#46039f"
             ],
             [
              0.2222222222222222,
              "#7201a8"
             ],
             [
              0.3333333333333333,
              "#9c179e"
             ],
             [
              0.4444444444444444,
              "#bd3786"
             ],
             [
              0.5555555555555556,
              "#d8576b"
             ],
             [
              0.6666666666666666,
              "#ed7953"
             ],
             [
              0.7777777777777778,
              "#fb9f3a"
             ],
             [
              0.8888888888888888,
              "#fdca26"
             ],
             [
              1,
              "#f0f921"
             ]
            ],
            "type": "heatmap"
           }
          ],
          "heatmapgl": [
           {
            "colorbar": {
             "outlinewidth": 0,
             "ticks": ""
            },
            "colorscale": [
             [
              0,
              "#0d0887"
             ],
             [
              0.1111111111111111,
              "#46039f"
             ],
             [
              0.2222222222222222,
              "#7201a8"
             ],
             [
              0.3333333333333333,
              "#9c179e"
             ],
             [
              0.4444444444444444,
              "#bd3786"
             ],
             [
              0.5555555555555556,
              "#d8576b"
             ],
             [
              0.6666666666666666,
              "#ed7953"
             ],
             [
              0.7777777777777778,
              "#fb9f3a"
             ],
             [
              0.8888888888888888,
              "#fdca26"
             ],
             [
              1,
              "#f0f921"
             ]
            ],
            "type": "heatmapgl"
           }
          ],
          "histogram": [
           {
            "marker": {
             "colorbar": {
              "outlinewidth": 0,
              "ticks": ""
             }
            },
            "type": "histogram"
           }
          ],
          "histogram2d": [
           {
            "colorbar": {
             "outlinewidth": 0,
             "ticks": ""
            },
            "colorscale": [
             [
              0,
              "#0d0887"
             ],
             [
              0.1111111111111111,
              "#46039f"
             ],
             [
              0.2222222222222222,
              "#7201a8"
             ],
             [
              0.3333333333333333,
              "#9c179e"
             ],
             [
              0.4444444444444444,
              "#bd3786"
             ],
             [
              0.5555555555555556,
              "#d8576b"
             ],
             [
              0.6666666666666666,
              "#ed7953"
             ],
             [
              0.7777777777777778,
              "#fb9f3a"
             ],
             [
              0.8888888888888888,
              "#fdca26"
             ],
             [
              1,
              "#f0f921"
             ]
            ],
            "type": "histogram2d"
           }
          ],
          "histogram2dcontour": [
           {
            "colorbar": {
             "outlinewidth": 0,
             "ticks": ""
            },
            "colorscale": [
             [
              0,
              "#0d0887"
             ],
             [
              0.1111111111111111,
              "#46039f"
             ],
             [
              0.2222222222222222,
              "#7201a8"
             ],
             [
              0.3333333333333333,
              "#9c179e"
             ],
             [
              0.4444444444444444,
              "#bd3786"
             ],
             [
              0.5555555555555556,
              "#d8576b"
             ],
             [
              0.6666666666666666,
              "#ed7953"
             ],
             [
              0.7777777777777778,
              "#fb9f3a"
             ],
             [
              0.8888888888888888,
              "#fdca26"
             ],
             [
              1,
              "#f0f921"
             ]
            ],
            "type": "histogram2dcontour"
           }
          ],
          "mesh3d": [
           {
            "colorbar": {
             "outlinewidth": 0,
             "ticks": ""
            },
            "type": "mesh3d"
           }
          ],
          "parcoords": [
           {
            "line": {
             "colorbar": {
              "outlinewidth": 0,
              "ticks": ""
             }
            },
            "type": "parcoords"
           }
          ],
          "pie": [
           {
            "automargin": true,
            "type": "pie"
           }
          ],
          "scatter": [
           {
            "marker": {
             "colorbar": {
              "outlinewidth": 0,
              "ticks": ""
             }
            },
            "type": "scatter"
           }
          ],
          "scatter3d": [
           {
            "line": {
             "colorbar": {
              "outlinewidth": 0,
              "ticks": ""
             }
            },
            "marker": {
             "colorbar": {
              "outlinewidth": 0,
              "ticks": ""
             }
            },
            "type": "scatter3d"
           }
          ],
          "scattercarpet": [
           {
            "marker": {
             "colorbar": {
              "outlinewidth": 0,
              "ticks": ""
             }
            },
            "type": "scattercarpet"
           }
          ],
          "scattergeo": [
           {
            "marker": {
             "colorbar": {
              "outlinewidth": 0,
              "ticks": ""
             }
            },
            "type": "scattergeo"
           }
          ],
          "scattergl": [
           {
            "marker": {
             "colorbar": {
              "outlinewidth": 0,
              "ticks": ""
             }
            },
            "type": "scattergl"
           }
          ],
          "scattermapbox": [
           {
            "marker": {
             "colorbar": {
              "outlinewidth": 0,
              "ticks": ""
             }
            },
            "type": "scattermapbox"
           }
          ],
          "scatterpolar": [
           {
            "marker": {
             "colorbar": {
              "outlinewidth": 0,
              "ticks": ""
             }
            },
            "type": "scatterpolar"
           }
          ],
          "scatterpolargl": [
           {
            "marker": {
             "colorbar": {
              "outlinewidth": 0,
              "ticks": ""
             }
            },
            "type": "scatterpolargl"
           }
          ],
          "scatterternary": [
           {
            "marker": {
             "colorbar": {
              "outlinewidth": 0,
              "ticks": ""
             }
            },
            "type": "scatterternary"
           }
          ],
          "surface": [
           {
            "colorbar": {
             "outlinewidth": 0,
             "ticks": ""
            },
            "colorscale": [
             [
              0,
              "#0d0887"
             ],
             [
              0.1111111111111111,
              "#46039f"
             ],
             [
              0.2222222222222222,
              "#7201a8"
             ],
             [
              0.3333333333333333,
              "#9c179e"
             ],
             [
              0.4444444444444444,
              "#bd3786"
             ],
             [
              0.5555555555555556,
              "#d8576b"
             ],
             [
              0.6666666666666666,
              "#ed7953"
             ],
             [
              0.7777777777777778,
              "#fb9f3a"
             ],
             [
              0.8888888888888888,
              "#fdca26"
             ],
             [
              1,
              "#f0f921"
             ]
            ],
            "type": "surface"
           }
          ],
          "table": [
           {
            "cells": {
             "fill": {
              "color": "#EBF0F8"
             },
             "line": {
              "color": "white"
             }
            },
            "header": {
             "fill": {
              "color": "#C8D4E3"
             },
             "line": {
              "color": "white"
             }
            },
            "type": "table"
           }
          ]
         },
         "layout": {
          "annotationdefaults": {
           "arrowcolor": "#2a3f5f",
           "arrowhead": 0,
           "arrowwidth": 1
          },
          "coloraxis": {
           "colorbar": {
            "outlinewidth": 0,
            "ticks": ""
           }
          },
          "colorscale": {
           "diverging": [
            [
             0,
             "#8e0152"
            ],
            [
             0.1,
             "#c51b7d"
            ],
            [
             0.2,
             "#de77ae"
            ],
            [
             0.3,
             "#f1b6da"
            ],
            [
             0.4,
             "#fde0ef"
            ],
            [
             0.5,
             "#f7f7f7"
            ],
            [
             0.6,
             "#e6f5d0"
            ],
            [
             0.7,
             "#b8e186"
            ],
            [
             0.8,
             "#7fbc41"
            ],
            [
             0.9,
             "#4d9221"
            ],
            [
             1,
             "#276419"
            ]
           ],
           "sequential": [
            [
             0,
             "#0d0887"
            ],
            [
             0.1111111111111111,
             "#46039f"
            ],
            [
             0.2222222222222222,
             "#7201a8"
            ],
            [
             0.3333333333333333,
             "#9c179e"
            ],
            [
             0.4444444444444444,
             "#bd3786"
            ],
            [
             0.5555555555555556,
             "#d8576b"
            ],
            [
             0.6666666666666666,
             "#ed7953"
            ],
            [
             0.7777777777777778,
             "#fb9f3a"
            ],
            [
             0.8888888888888888,
             "#fdca26"
            ],
            [
             1,
             "#f0f921"
            ]
           ],
           "sequentialminus": [
            [
             0,
             "#0d0887"
            ],
            [
             0.1111111111111111,
             "#46039f"
            ],
            [
             0.2222222222222222,
             "#7201a8"
            ],
            [
             0.3333333333333333,
             "#9c179e"
            ],
            [
             0.4444444444444444,
             "#bd3786"
            ],
            [
             0.5555555555555556,
             "#d8576b"
            ],
            [
             0.6666666666666666,
             "#ed7953"
            ],
            [
             0.7777777777777778,
             "#fb9f3a"
            ],
            [
             0.8888888888888888,
             "#fdca26"
            ],
            [
             1,
             "#f0f921"
            ]
           ]
          },
          "colorway": [
           "#636efa",
           "#EF553B",
           "#00cc96",
           "#ab63fa",
           "#FFA15A",
           "#19d3f3",
           "#FF6692",
           "#B6E880",
           "#FF97FF",
           "#FECB52"
          ],
          "font": {
           "color": "#2a3f5f"
          },
          "geo": {
           "bgcolor": "white",
           "lakecolor": "white",
           "landcolor": "#E5ECF6",
           "showlakes": true,
           "showland": true,
           "subunitcolor": "white"
          },
          "hoverlabel": {
           "align": "left"
          },
          "hovermode": "closest",
          "mapbox": {
           "style": "light"
          },
          "paper_bgcolor": "white",
          "plot_bgcolor": "#E5ECF6",
          "polar": {
           "angularaxis": {
            "gridcolor": "white",
            "linecolor": "white",
            "ticks": ""
           },
           "bgcolor": "#E5ECF6",
           "radialaxis": {
            "gridcolor": "white",
            "linecolor": "white",
            "ticks": ""
           }
          },
          "scene": {
           "xaxis": {
            "backgroundcolor": "#E5ECF6",
            "gridcolor": "white",
            "gridwidth": 2,
            "linecolor": "white",
            "showbackground": true,
            "ticks": "",
            "zerolinecolor": "white"
           },
           "yaxis": {
            "backgroundcolor": "#E5ECF6",
            "gridcolor": "white",
            "gridwidth": 2,
            "linecolor": "white",
            "showbackground": true,
            "ticks": "",
            "zerolinecolor": "white"
           },
           "zaxis": {
            "backgroundcolor": "#E5ECF6",
            "gridcolor": "white",
            "gridwidth": 2,
            "linecolor": "white",
            "showbackground": true,
            "ticks": "",
            "zerolinecolor": "white"
           }
          },
          "shapedefaults": {
           "line": {
            "color": "#2a3f5f"
           }
          },
          "ternary": {
           "aaxis": {
            "gridcolor": "white",
            "linecolor": "white",
            "ticks": ""
           },
           "baxis": {
            "gridcolor": "white",
            "linecolor": "white",
            "ticks": ""
           },
           "bgcolor": "#E5ECF6",
           "caxis": {
            "gridcolor": "white",
            "linecolor": "white",
            "ticks": ""
           }
          },
          "title": {
           "x": 0.05
          },
          "xaxis": {
           "automargin": true,
           "gridcolor": "white",
           "linecolor": "white",
           "ticks": "",
           "title": {
            "standoff": 15
           },
           "zerolinecolor": "white",
           "zerolinewidth": 2
          },
          "yaxis": {
           "automargin": true,
           "gridcolor": "white",
           "linecolor": "white",
           "ticks": "",
           "title": {
            "standoff": 15
           },
           "zerolinecolor": "white",
           "zerolinewidth": 2
          }
         }
        },
        "title": {
         "text": "Comparing Tweet is a real disaster (1) or not (0) in %"
        }
       }
      },
      "text/html": [
       "<div>\n",
       "        \n",
       "        \n",
       "            <div id=\"118e9138-2512-40a9-836a-5139faa576a9\" class=\"plotly-graph-div\" style=\"height:525px; width:100%;\"></div>\n",
       "            <script type=\"text/javascript\">\n",
       "                require([\"plotly\"], function(Plotly) {\n",
       "                    window.PLOTLYENV=window.PLOTLYENV || {};\n",
       "                    \n",
       "                if (document.getElementById(\"118e9138-2512-40a9-836a-5139faa576a9\")) {\n",
       "                    Plotly.newPlot(\n",
       "                        '118e9138-2512-40a9-836a-5139faa576a9',\n",
       "                        [{\"hole\": 0.3, \"hoverinfo\": \"label+percent+value\", \"labels\": [0, 1], \"pull\": [0.03, 0], \"type\": \"pie\", \"values\": [4342, 3271]}],\n",
       "                        {\"annotations\": [{\"font\": {\"size\": 20}, \"showarrow\": false, \"text\": \"Train\", \"x\": 0.5, \"y\": 0.5}], \"template\": {\"data\": {\"bar\": [{\"error_x\": {\"color\": \"#2a3f5f\"}, \"error_y\": {\"color\": \"#2a3f5f\"}, \"marker\": {\"line\": {\"color\": \"#E5ECF6\", \"width\": 0.5}}, \"type\": \"bar\"}], \"barpolar\": [{\"marker\": {\"line\": {\"color\": \"#E5ECF6\", \"width\": 0.5}}, \"type\": \"barpolar\"}], \"carpet\": [{\"aaxis\": {\"endlinecolor\": \"#2a3f5f\", \"gridcolor\": \"white\", \"linecolor\": \"white\", \"minorgridcolor\": \"white\", \"startlinecolor\": \"#2a3f5f\"}, \"baxis\": {\"endlinecolor\": \"#2a3f5f\", \"gridcolor\": \"white\", \"linecolor\": \"white\", \"minorgridcolor\": \"white\", \"startlinecolor\": \"#2a3f5f\"}, \"type\": \"carpet\"}], \"choropleth\": [{\"colorbar\": {\"outlinewidth\": 0, \"ticks\": \"\"}, \"type\": \"choropleth\"}], \"contour\": [{\"colorbar\": {\"outlinewidth\": 0, \"ticks\": \"\"}, \"colorscale\": [[0.0, \"#0d0887\"], [0.1111111111111111, \"#46039f\"], [0.2222222222222222, \"#7201a8\"], [0.3333333333333333, \"#9c179e\"], [0.4444444444444444, \"#bd3786\"], [0.5555555555555556, \"#d8576b\"], [0.6666666666666666, \"#ed7953\"], [0.7777777777777778, \"#fb9f3a\"], [0.8888888888888888, \"#fdca26\"], [1.0, \"#f0f921\"]], \"type\": \"contour\"}], \"contourcarpet\": [{\"colorbar\": {\"outlinewidth\": 0, \"ticks\": \"\"}, \"type\": \"contourcarpet\"}], \"heatmap\": [{\"colorbar\": {\"outlinewidth\": 0, \"ticks\": \"\"}, \"colorscale\": [[0.0, \"#0d0887\"], [0.1111111111111111, \"#46039f\"], [0.2222222222222222, \"#7201a8\"], [0.3333333333333333, \"#9c179e\"], [0.4444444444444444, \"#bd3786\"], [0.5555555555555556, \"#d8576b\"], [0.6666666666666666, \"#ed7953\"], [0.7777777777777778, \"#fb9f3a\"], [0.8888888888888888, \"#fdca26\"], [1.0, \"#f0f921\"]], \"type\": \"heatmap\"}], \"heatmapgl\": [{\"colorbar\": {\"outlinewidth\": 0, \"ticks\": \"\"}, \"colorscale\": [[0.0, \"#0d0887\"], [0.1111111111111111, \"#46039f\"], [0.2222222222222222, \"#7201a8\"], [0.3333333333333333, \"#9c179e\"], [0.4444444444444444, \"#bd3786\"], [0.5555555555555556, \"#d8576b\"], [0.6666666666666666, \"#ed7953\"], [0.7777777777777778, \"#fb9f3a\"], [0.8888888888888888, \"#fdca26\"], [1.0, \"#f0f921\"]], \"type\": \"heatmapgl\"}], \"histogram\": [{\"marker\": {\"colorbar\": {\"outlinewidth\": 0, \"ticks\": \"\"}}, \"type\": \"histogram\"}], \"histogram2d\": [{\"colorbar\": {\"outlinewidth\": 0, \"ticks\": \"\"}, \"colorscale\": [[0.0, \"#0d0887\"], [0.1111111111111111, \"#46039f\"], [0.2222222222222222, \"#7201a8\"], [0.3333333333333333, \"#9c179e\"], [0.4444444444444444, \"#bd3786\"], [0.5555555555555556, \"#d8576b\"], [0.6666666666666666, \"#ed7953\"], [0.7777777777777778, \"#fb9f3a\"], [0.8888888888888888, \"#fdca26\"], [1.0, \"#f0f921\"]], \"type\": \"histogram2d\"}], \"histogram2dcontour\": [{\"colorbar\": {\"outlinewidth\": 0, \"ticks\": \"\"}, \"colorscale\": [[0.0, \"#0d0887\"], [0.1111111111111111, \"#46039f\"], [0.2222222222222222, \"#7201a8\"], [0.3333333333333333, \"#9c179e\"], [0.4444444444444444, \"#bd3786\"], [0.5555555555555556, \"#d8576b\"], [0.6666666666666666, \"#ed7953\"], [0.7777777777777778, \"#fb9f3a\"], [0.8888888888888888, \"#fdca26\"], [1.0, \"#f0f921\"]], \"type\": \"histogram2dcontour\"}], \"mesh3d\": [{\"colorbar\": {\"outlinewidth\": 0, \"ticks\": \"\"}, \"type\": \"mesh3d\"}], \"parcoords\": [{\"line\": {\"colorbar\": {\"outlinewidth\": 0, \"ticks\": \"\"}}, \"type\": \"parcoords\"}], \"pie\": [{\"automargin\": true, \"type\": \"pie\"}], \"scatter\": [{\"marker\": {\"colorbar\": {\"outlinewidth\": 0, \"ticks\": \"\"}}, \"type\": \"scatter\"}], \"scatter3d\": [{\"line\": {\"colorbar\": {\"outlinewidth\": 0, \"ticks\": \"\"}}, \"marker\": {\"colorbar\": {\"outlinewidth\": 0, \"ticks\": \"\"}}, \"type\": \"scatter3d\"}], \"scattercarpet\": [{\"marker\": {\"colorbar\": {\"outlinewidth\": 0, \"ticks\": \"\"}}, \"type\": \"scattercarpet\"}], \"scattergeo\": [{\"marker\": {\"colorbar\": {\"outlinewidth\": 0, \"ticks\": \"\"}}, \"type\": \"scattergeo\"}], \"scattergl\": [{\"marker\": {\"colorbar\": {\"outlinewidth\": 0, \"ticks\": \"\"}}, \"type\": \"scattergl\"}], \"scattermapbox\": [{\"marker\": {\"colorbar\": {\"outlinewidth\": 0, \"ticks\": \"\"}}, \"type\": \"scattermapbox\"}], \"scatterpolar\": [{\"marker\": {\"colorbar\": {\"outlinewidth\": 0, \"ticks\": \"\"}}, \"type\": \"scatterpolar\"}], \"scatterpolargl\": [{\"marker\": {\"colorbar\": {\"outlinewidth\": 0, \"ticks\": \"\"}}, \"type\": \"scatterpolargl\"}], \"scatterternary\": [{\"marker\": {\"colorbar\": {\"outlinewidth\": 0, \"ticks\": \"\"}}, \"type\": \"scatterternary\"}], \"surface\": [{\"colorbar\": {\"outlinewidth\": 0, \"ticks\": \"\"}, \"colorscale\": [[0.0, \"#0d0887\"], [0.1111111111111111, \"#46039f\"], [0.2222222222222222, \"#7201a8\"], [0.3333333333333333, \"#9c179e\"], [0.4444444444444444, \"#bd3786\"], [0.5555555555555556, \"#d8576b\"], [0.6666666666666666, \"#ed7953\"], [0.7777777777777778, \"#fb9f3a\"], [0.8888888888888888, \"#fdca26\"], [1.0, \"#f0f921\"]], \"type\": \"surface\"}], \"table\": [{\"cells\": {\"fill\": {\"color\": \"#EBF0F8\"}, \"line\": {\"color\": \"white\"}}, \"header\": {\"fill\": {\"color\": \"#C8D4E3\"}, \"line\": {\"color\": \"white\"}}, \"type\": \"table\"}]}, \"layout\": {\"annotationdefaults\": {\"arrowcolor\": \"#2a3f5f\", \"arrowhead\": 0, \"arrowwidth\": 1}, \"coloraxis\": {\"colorbar\": {\"outlinewidth\": 0, \"ticks\": \"\"}}, \"colorscale\": {\"diverging\": [[0, \"#8e0152\"], [0.1, \"#c51b7d\"], [0.2, \"#de77ae\"], [0.3, \"#f1b6da\"], [0.4, \"#fde0ef\"], [0.5, \"#f7f7f7\"], [0.6, \"#e6f5d0\"], [0.7, \"#b8e186\"], [0.8, \"#7fbc41\"], [0.9, \"#4d9221\"], [1, \"#276419\"]], \"sequential\": [[0.0, \"#0d0887\"], [0.1111111111111111, \"#46039f\"], [0.2222222222222222, \"#7201a8\"], [0.3333333333333333, \"#9c179e\"], [0.4444444444444444, \"#bd3786\"], [0.5555555555555556, \"#d8576b\"], [0.6666666666666666, \"#ed7953\"], [0.7777777777777778, \"#fb9f3a\"], [0.8888888888888888, \"#fdca26\"], [1.0, \"#f0f921\"]], \"sequentialminus\": [[0.0, \"#0d0887\"], [0.1111111111111111, \"#46039f\"], [0.2222222222222222, \"#7201a8\"], [0.3333333333333333, \"#9c179e\"], [0.4444444444444444, \"#bd3786\"], [0.5555555555555556, \"#d8576b\"], [0.6666666666666666, \"#ed7953\"], [0.7777777777777778, \"#fb9f3a\"], [0.8888888888888888, \"#fdca26\"], [1.0, \"#f0f921\"]]}, \"colorway\": [\"#636efa\", \"#EF553B\", \"#00cc96\", \"#ab63fa\", \"#FFA15A\", \"#19d3f3\", \"#FF6692\", \"#B6E880\", \"#FF97FF\", \"#FECB52\"], \"font\": {\"color\": \"#2a3f5f\"}, \"geo\": {\"bgcolor\": \"white\", \"lakecolor\": \"white\", \"landcolor\": \"#E5ECF6\", \"showlakes\": true, \"showland\": true, \"subunitcolor\": \"white\"}, \"hoverlabel\": {\"align\": \"left\"}, \"hovermode\": \"closest\", \"mapbox\": {\"style\": \"light\"}, \"paper_bgcolor\": \"white\", \"plot_bgcolor\": \"#E5ECF6\", \"polar\": {\"angularaxis\": {\"gridcolor\": \"white\", \"linecolor\": \"white\", \"ticks\": \"\"}, \"bgcolor\": \"#E5ECF6\", \"radialaxis\": {\"gridcolor\": \"white\", \"linecolor\": \"white\", \"ticks\": \"\"}}, \"scene\": {\"xaxis\": {\"backgroundcolor\": \"#E5ECF6\", \"gridcolor\": \"white\", \"gridwidth\": 2, \"linecolor\": \"white\", \"showbackground\": true, \"ticks\": \"\", \"zerolinecolor\": \"white\"}, \"yaxis\": {\"backgroundcolor\": \"#E5ECF6\", \"gridcolor\": \"white\", \"gridwidth\": 2, \"linecolor\": \"white\", \"showbackground\": true, \"ticks\": \"\", \"zerolinecolor\": \"white\"}, \"zaxis\": {\"backgroundcolor\": \"#E5ECF6\", \"gridcolor\": \"white\", \"gridwidth\": 2, \"linecolor\": \"white\", \"showbackground\": true, \"ticks\": \"\", \"zerolinecolor\": \"white\"}}, \"shapedefaults\": {\"line\": {\"color\": \"#2a3f5f\"}}, \"ternary\": {\"aaxis\": {\"gridcolor\": \"white\", \"linecolor\": \"white\", \"ticks\": \"\"}, \"baxis\": {\"gridcolor\": \"white\", \"linecolor\": \"white\", \"ticks\": \"\"}, \"bgcolor\": \"#E5ECF6\", \"caxis\": {\"gridcolor\": \"white\", \"linecolor\": \"white\", \"ticks\": \"\"}}, \"title\": {\"x\": 0.05}, \"xaxis\": {\"automargin\": true, \"gridcolor\": \"white\", \"linecolor\": \"white\", \"ticks\": \"\", \"title\": {\"standoff\": 15}, \"zerolinecolor\": \"white\", \"zerolinewidth\": 2}, \"yaxis\": {\"automargin\": true, \"gridcolor\": \"white\", \"linecolor\": \"white\", \"ticks\": \"\", \"title\": {\"standoff\": 15}, \"zerolinecolor\": \"white\", \"zerolinewidth\": 2}}}, \"title\": {\"text\": \"Comparing Tweet is a real disaster (1) or not (0) in %\"}},\n",
       "                        {\"responsive\": true}\n",
       "                    ).then(function(){\n",
       "                            \n",
       "var gd = document.getElementById('118e9138-2512-40a9-836a-5139faa576a9');\n",
       "var x = new MutationObserver(function (mutations, observer) {{\n",
       "        var display = window.getComputedStyle(gd).display;\n",
       "        if (!display || display === 'none') {{\n",
       "            console.log([gd, 'removed!']);\n",
       "            Plotly.purge(gd);\n",
       "            observer.disconnect();\n",
       "        }}\n",
       "}});\n",
       "\n",
       "// Listen for the removal of the full notebook cells\n",
       "var notebookContainer = gd.closest('#notebook-container');\n",
       "if (notebookContainer) {{\n",
       "    x.observe(notebookContainer, {childList: true});\n",
       "}}\n",
       "\n",
       "// Listen for the clearing of the current output cell\n",
       "var outputEl = gd.closest('.output');\n",
       "if (outputEl) {{\n",
       "    x.observe(outputEl, {childList: true});\n",
       "}}\n",
       "\n",
       "                        })\n",
       "                };\n",
       "                });\n",
       "            </script>\n",
       "        </div>"
      ]
     },
     "metadata": {},
     "output_type": "display_data"
    }
   ],
   "source": [
    "#数据可视化\n",
    "\n",
    "#绘制真实虚假灾难数量对比的饼图\n",
    "counts_train = train.target.value_counts(sort=False) #查看target列中有多少个不同值并计算每个不同值有在该列中有多少重复值\n",
    "labels = counts_train.index   \n",
    "values_train = counts_train.values \n",
    "\n",
    "data = go.Pie(labels=labels, values=values_train ,pull=[0.03, 0])                  #输入饼图数据\n",
    "layout = go.Layout(title='Comparing Tweet is a real disaster (1) or not (0) in %') #设置标题\n",
    "\n",
    "fig = go.Figure(data=[data], layout=layout)                                        #绘制饼图\n",
    "fig.update_traces(hole=.3, hoverinfo=\"label+percent+value\")                        #设置饼图的显示，标签，百分比，值\n",
    "fig.update_layout(annotations=                                                     #在饼图的中心添加注释\n",
    "                  [dict(text='Train', x=0.5, y=0.5, font_size=20, showarrow=False)])\n",
    "fig.show()                                                                         #显示饼图"
   ]
  },
  {
   "cell_type": "code",
   "execution_count": 6,
   "metadata": {},
   "outputs": [
    {
     "data": {
      "image/png": "[encoded data removed]",
      "text/plain": [
       "<Figure size 864x864 with 1 Axes>"
      ]
     },
     "metadata": {},
     "output_type": "display_data"
    }
   ],
   "source": [
    "#绘制推文内容的词云\n",
    "STOPWORDS.add('https')  #将https加入停用词表\n",
    "STOPWORDS.add('co')\n",
    "STOPWORDS.add('amp')\n",
    "#定义函数：绘制词云图\n",
    "def Plot_world(text):\n",
    "    \n",
    "    comment_words = ' '\n",
    "    stopwords = set(STOPWORDS)    #创建停用词元素集\n",
    "    \n",
    "    for val in text:    #遍历text中的值\n",
    "        val = str(val)  #将每个值转换成字符串\n",
    "        tokens = val.split()    #分割值\n",
    "\n",
    "        for i in range(len(tokens)):    \n",
    "            tokens[i] = tokens[i].lower()   #遍历分割后的字符串，并将每个词转换成小写\n",
    "\n",
    "        for words in tokens: \n",
    "            comment_words = comment_words + words + ' '   #遍历字符串中的所有词,将每个词用空格隔开\n",
    "\n",
    "\n",
    "    wordcloud = WordCloud(width = 4000, height = 3000,    #生成词云\n",
    "                    background_color ='white', \n",
    "                    stopwords = stopwords, \n",
    "                    min_font_size = 10).generate(comment_words) \n",
    "\n",
    "    #绘制词云                        \n",
    "    plt.figure(figsize = (12, 12), facecolor = 'white', edgecolor = 'white' ) \n",
    "    plt.imshow(wordcloud) \n",
    "    plt.axis(\"off\")            #不显示坐标轴\n",
    "    plt.tight_layout(pad = 0)  #图像自动调整，设置间距\n",
    " \n",
    "    plt.show() \n",
    "    wordcloud.to_file('wordcloud.png')\n",
    "#运行函数    \n",
    "text = train.text.values\n",
    "Plot_world(text)"
   ]
  },
  {
   "cell_type": "code",
   "execution_count": 7,
   "metadata": {},
   "outputs": [],
   "source": [
    "#数据清洗\n",
    "\n",
    "#删除网址\n",
    "def remove_URL(text):\n",
    "    url = re.compile(r'https?://\\S+|www\\.\\S+')\n",
    "    return url.sub(r'',text)"
   ]
  },
  {
   "cell_type": "code",
   "execution_count": 8,
   "metadata": {},
   "outputs": [],
   "source": [
    "train['text']=train['text'].apply(lambda x : remove_URL(x))"
   ]
  },
  {
   "cell_type": "code",
   "execution_count": 9,
   "metadata": {},
   "outputs": [],
   "source": [
    "#删除HTML标签\n",
    "def remove_html(text):\n",
    "    html=re.compile(r'<.*?>')\n",
    "    return html.sub(r'',text)"
   ]
  },
  {
   "cell_type": "code",
   "execution_count": 10,
   "metadata": {},
   "outputs": [],
   "source": [
    "train['text']=train['text'].apply(lambda x : remove_html(x))"
   ]
  },
  {
   "cell_type": "code",
   "execution_count": 11,
   "metadata": {},
   "outputs": [],
   "source": [
    "#删除表情\n",
    "def remove_emoji(text):\n",
    "    emoji_pattern = re.compile(\"[\"\n",
    "                           u\"\\U0001F600-\\U0001F64F\"  # emoticons\n",
    "                           u\"\\U0001F300-\\U0001F5FF\"  # symbols & pictographs\n",
    "                           u\"\\U0001F680-\\U0001F6FF\"  # transport & map symbols\n",
    "                           u\"\\U0001F1E0-\\U0001F1FF\"  # flags (iOS)\n",
    "                           u\"\\U00002702-\\U000027B0\"\n",
    "                           u\"\\U000024C2-\\U0001F251\"\n",
    "                           \"]+\", flags=re.UNICODE)\n",
    "    return emoji_pattern.sub(r'', text)"
   ]
  },
  {
   "cell_type": "code",
   "execution_count": 12,
   "metadata": {},
   "outputs": [],
   "source": [
    "train['text']=train['text'].apply(lambda x: remove_emoji(x))"
   ]
  },
  {
   "cell_type": "code",
   "execution_count": 13,
   "metadata": {},
   "outputs": [],
   "source": [
    "#删除标点符号\n",
    "import string\n",
    "def remove_punct(text):\n",
    "    table=str.maketrans('','',string.punctuation)\n",
    "    return text.translate(table)"
   ]
  },
  {
   "cell_type": "code",
   "execution_count": 14,
   "metadata": {},
   "outputs": [],
   "source": [
    "train['text']=train['text'].apply(lambda x : remove_punct(x))"
   ]
  },
  {
   "cell_type": "code",
   "execution_count": null,
   "metadata": {},
   "outputs": [],
   "source": [
    "#拼写校正（速度慢）\n",
    "from spellchecker import SpellChecker\n",
    "spell = SpellChecker()\n",
    "def correct_spellings(text):\n",
    "    corrected_text = []\n",
    "    misspelled_words = spell.unknown(text.split())\n",
    "    for word in text.split():\n",
    "        if word in misspelled_words:\n",
    "            corrected_text.append(spell.correction(word))\n",
    "        else:\n",
    "            corrected_text.append(word)\n",
    "    return \" \".join(corrected_text)"
   ]
  },
  {
   "cell_type": "code",
   "execution_count": null,
   "metadata": {},
   "outputs": [],
   "source": [
    "train['text']=train['text'].apply(lambda x : correct_spellings(x))"
   ]
  },
  {
   "cell_type": "code",
   "execution_count": null,
   "metadata": {},
   "outputs": [],
   "source": [
    "#将清洗后的数据保存\n",
    "train.to_csv('clean_train.csv')"
   ]
  },
  {
   "cell_type": "code",
   "execution_count": 4,
   "metadata": {},
   "outputs": [],
   "source": [
    "#重新载入数据\n",
    "train = pd.read_csv('clean_train.csv')"
   ]
  },
  {
   "cell_type": "code",
   "execution_count": 5,
   "metadata": {},
   "outputs": [
    {
     "name": "stdout",
     "output_type": "stream",
     "text": [
      "Number of unique words: 14666\n"
     ]
    }
   ],
   "source": [
    "#文本序列化\n",
    " \n",
    "from tensorflow.keras.preprocessing.text import Tokenizer\n",
    "tokenizer = Tokenizer()              #分词器\n",
    "tokenizer.fit_on_texts(train.text)   #用本文内容学习字典\n",
    "word_index = tokenizer.word_index    #将词映射为索引值\n",
    "print('Number of unique words:',len(word_index))\n"
   ]
  },
  {
   "cell_type": "code",
   "execution_count": 6,
   "metadata": {},
   "outputs": [],
   "source": [
    "training_sequences = tokenizer.texts_to_sequences(train.text)  #将训练集的文本转化为序列\n",
    "MAX_LEN=20\n",
    "training_padded = pad_sequences(training_sequences,      #填充序列\n",
    "                                maxlen=MAX_LEN,          #设置序列长度\n",
    "                                padding='post',          #需要补充时确定补0的位置 结尾\n",
    "                                truncating='post')       #需要截断时确定截断位置  结尾"
   ]
  },
  {
   "cell_type": "code",
   "execution_count": 7,
   "metadata": {},
   "outputs": [],
   "source": [
    "#嵌入glove字典\n",
    "embedding_dict={}\n",
    "with open('D:/机器学习/NLP/IMDB/glove.6B.100d.txt','r',encoding='utf-8') as f:\n",
    "    for line in f:\n",
    "        values=line.split()\n",
    "        word=values[0]\n",
    "        vectors=np.asarray(values[1:],'float32')\n",
    "        embedding_dict[word]=vectors\n",
    "f.close()"
   ]
  },
  {
   "cell_type": "code",
   "execution_count": 8,
   "metadata": {},
   "outputs": [
    {
     "name": "stderr",
     "output_type": "stream",
     "text": [
      "100%|████████████████████████████████████████████████████████████████████████| 14666/14666 [00:00<00:00, 667842.78it/s]\n"
     ]
    },
    {
     "data": {
      "text/plain": [
       "(14667, 100)"
      ]
     },
     "execution_count": 8,
     "metadata": {},
     "output_type": "execute_result"
    }
   ],
   "source": [
    "#匹配GloVe向量\n",
    "num_words=len(word_index)+1\n",
    "embedding_dim=100\n",
    "embedding_matrix = np.zeros((num_words, embedding_dim))\n",
    "for word, i in tqdm(word_index.items()):\n",
    "    if i < num_words:\n",
    "        #返回glove字典中相应的word对应的词向量\n",
    "        embedding_vector = embedding_dict.get(word)  \n",
    "        if embedding_vector is not None:\n",
    "        #在嵌入索引中找不到的单词将为全零。\n",
    "            embedding_matrix[i] = embedding_vector\n",
    "\n",
    "embedding_matrix.shape"
   ]
  },
  {
   "cell_type": "code",
   "execution_count": 9,
   "metadata": {},
   "outputs": [
    {
     "name": "stderr",
     "output_type": "stream",
     "text": [
      "Using TensorFlow backend.\n"
     ]
    },
    {
     "name": "stdout",
     "output_type": "stream",
     "text": [
      "WARNING:tensorflow:From D:\\ProgramData\\Anaconda3\\lib\\site-packages\\keras\\backend\\tensorflow_backend.py:74: The name tf.get_default_graph is deprecated. Please use tf.compat.v1.get_default_graph instead.\n",
      "\n",
      "WARNING:tensorflow:From D:\\ProgramData\\Anaconda3\\lib\\site-packages\\keras\\backend\\tensorflow_backend.py:517: The name tf.placeholder is deprecated. Please use tf.compat.v1.placeholder instead.\n",
      "\n",
      "WARNING:tensorflow:From D:\\ProgramData\\Anaconda3\\lib\\site-packages\\keras\\backend\\tensorflow_backend.py:133: The name tf.placeholder_with_default is deprecated. Please use tf.compat.v1.placeholder_with_default instead.\n",
      "\n",
      "WARNING:tensorflow:From D:\\ProgramData\\Anaconda3\\lib\\site-packages\\keras\\backend\\tensorflow_backend.py:3445: calling dropout (from tensorflow.python.ops.nn_ops) with keep_prob is deprecated and will be removed in a future version.\n",
      "Instructions for updating:\n",
      "Please use `rate` instead of `keep_prob`. Rate should be set to `rate = 1 - keep_prob`.\n",
      "WARNING:tensorflow:From D:\\ProgramData\\Anaconda3\\lib\\site-packages\\keras\\backend\\tensorflow_backend.py:4138: The name tf.random_uniform is deprecated. Please use tf.random.uniform instead.\n",
      "\n",
      "WARNING:tensorflow:From D:\\ProgramData\\Anaconda3\\lib\\site-packages\\keras\\optimizers.py:790: The name tf.train.Optimizer is deprecated. Please use tf.compat.v1.train.Optimizer instead.\n",
      "\n",
      "WARNING:tensorflow:From D:\\ProgramData\\Anaconda3\\lib\\site-packages\\keras\\backend\\tensorflow_backend.py:3376: The name tf.log is deprecated. Please use tf.math.log instead.\n",
      "\n",
      "WARNING:tensorflow:From D:\\ProgramData\\Anaconda3\\lib\\site-packages\\tensorflow_core\\python\\ops\\nn_impl.py:183: where (from tensorflow.python.ops.array_ops) is deprecated and will be removed in a future version.\n",
      "Instructions for updating:\n",
      "Use tf.where in 2.0, which has the same broadcast rule as np.where\n",
      "_________________________________________________________________\n",
      "Layer (type)                 Output Shape              Param #   \n",
      "=================================================================\n",
      "embedding_1 (Embedding)      (None, 20, 100)           1466700   \n",
      "_________________________________________________________________\n",
      "dropout_1 (Dropout)          (None, 20, 100)           0         \n",
      "_________________________________________________________________\n",
      "lstm_1 (LSTM)                (None, 64)                42240     \n",
      "_________________________________________________________________\n",
      "dense_1 (Dense)              (None, 1)                 65        \n",
      "=================================================================\n",
      "Total params: 1,509,005\n",
      "Trainable params: 42,305\n",
      "Non-trainable params: 1,466,700\n",
      "_________________________________________________________________\n"
     ]
    }
   ],
   "source": [
    "#建立模型\n",
    "from keras.models import Sequential \n",
    "from keras.layers import Embedding,Dense,Dropout,LSTM\n",
    "from keras import optimizers,initializers\n",
    "\n",
    "def create_model():\n",
    "    model = Sequential() \n",
    "                        #input_dim即词汇量，输入数组中的词典大小是14666，即有14666个不同的词，所以我的input_dim便要比14666要大1，\n",
    "    model.add(Embedding(input_dim=num_words,\n",
    "                        #output_dim是密集嵌入的尺寸，就如同CNN最后的全连接层一样，上面设置的100，便将每一个词变为用1x100来表示的向量，\n",
    "                        output_dim=100,\n",
    "                        #嵌入矩阵的初始化的方法，为预定义初始化方法名的字符串，或用于初始化权重的初始化器。\n",
    "                        embeddings_initializer=initializers.Constant(embedding_matrix), \n",
    "                        #输入序列的长度为20，本层将每个text表示为一个20×100的矩阵\n",
    "                        input_length=MAX_LEN,trainable=False))\n",
    "    #正则化，防止过拟合\n",
    "    model.add(Dropout(0.2))    \n",
    "    #LSTM层，长短期记忆\n",
    "    model.add(LSTM(64, dropout=0.2, recurrent_dropout=0.2))\n",
    "    #全连接层\n",
    "    model.add(Dense(1, activation='sigmoid')) \n",
    "    #编译模型\n",
    "    model.compile(loss='binary_crossentropy',  #一般搭配sigmoid\n",
    "                  optimizer='adam',            #优化器\n",
    "                  metrics=['accuracy'])        #模型评估标准\n",
    "    return model\n",
    "\n",
    "#模型摘要\n",
    "model=create_model()\n",
    "model.summary()"
   ]
  },
  {
   "cell_type": "code",
   "execution_count": 10,
   "metadata": {},
   "outputs": [],
   "source": [
    "#参数选择与调优———网格搜索和交叉验证\n",
    "#Scikit-Learn里有一个API 为model.selection.GridSearchCV，可以将keras搭建的模型传入，作为sklearn工作流程一部分。\n",
    "from keras.wrappers.scikit_learn import KerasClassifier \n",
    "from sklearn.model_selection import GridSearchCV \n",
    "#包装keras模型以便在scikit-learn中使用keras，该模型用作scikit-learn中的estimator\n",
    "model = KerasClassifier(build_fn=create_model, verbose=0) \n",
    "#定义网格搜索超参数\n",
    "batch_size = [5, 10, 50, 100] \n",
    "epochs = [5, 10, 20, 50] \n",
    "#参数字典\n",
    "param_grid = dict(batch_size=batch_size, nb_epoch=epochs)\n",
    "#网格搜索，5折交叉验证\n",
    "grid = GridSearchCV(estimator=model, param_grid=param_grid, cv=5, n_jobs=1) "
   ]
  },
  {
   "cell_type": "code",
   "execution_count": 11,
   "metadata": {},
   "outputs": [
    {
     "name": "stdout",
     "output_type": "stream",
     "text": [
      "WARNING:tensorflow:From D:\\ProgramData\\Anaconda3\\lib\\site-packages\\keras\\backend\\tensorflow_backend.py:986: The name tf.assign_add is deprecated. Please use tf.compat.v1.assign_add instead.\n",
      "\n",
      "WARNING:tensorflow:From D:\\ProgramData\\Anaconda3\\lib\\site-packages\\keras\\backend\\tensorflow_backend.py:973: The name tf.assign is deprecated. Please use tf.compat.v1.assign instead.\n",
      "\n",
      "WARNING:tensorflow:From D:\\ProgramData\\Anaconda3\\lib\\site-packages\\keras\\backend\\tensorflow_backend.py:2741: The name tf.Session is deprecated. Please use tf.compat.v1.Session instead.\n",
      "\n",
      "WARNING:tensorflow:From D:\\ProgramData\\Anaconda3\\lib\\site-packages\\keras\\backend\\tensorflow_backend.py:174: The name tf.get_default_session is deprecated. Please use tf.compat.v1.get_default_session instead.\n",
      "\n",
      "WARNING:tensorflow:From D:\\ProgramData\\Anaconda3\\lib\\site-packages\\keras\\backend\\tensorflow_backend.py:181: The name tf.ConfigProto is deprecated. Please use tf.compat.v1.ConfigProto instead.\n",
      "\n",
      "WARNING:tensorflow:From D:\\ProgramData\\Anaconda3\\lib\\site-packages\\keras\\backend\\tensorflow_backend.py:190: The name tf.global_variables is deprecated. Please use tf.compat.v1.global_variables instead.\n",
      "\n",
      "WARNING:tensorflow:From D:\\ProgramData\\Anaconda3\\lib\\site-packages\\keras\\backend\\tensorflow_backend.py:199: The name tf.is_variable_initialized is deprecated. Please use tf.compat.v1.is_variable_initialized instead.\n",
      "\n",
      "WARNING:tensorflow:From D:\\ProgramData\\Anaconda3\\lib\\site-packages\\keras\\backend\\tensorflow_backend.py:206: The name tf.variables_initializer is deprecated. Please use tf.compat.v1.variables_initializer instead.\n",
      "\n"
     ]
    }
   ],
   "source": [
    "#训练获得最优模型\n",
    "grid_result = grid.fit(training_padded, train['target'].values) "
   ]
  },
  {
   "cell_type": "code",
   "execution_count": 12,
   "metadata": {},
   "outputs": [
    {
     "name": "stderr",
     "output_type": "stream",
     "text": [
      "D:\\ProgramData\\Anaconda3\\lib\\site-packages\\sklearn\\utils\\deprecation.py:125: FutureWarning:\n",
      "\n",
      "You are accessing a training score ('split0_train_score'), which will not be available by default any more in 0.21. If you need training scores, please set return_train_score=True\n",
      "\n",
      "D:\\ProgramData\\Anaconda3\\lib\\site-packages\\sklearn\\utils\\deprecation.py:125: FutureWarning:\n",
      "\n",
      "You are accessing a training score ('split1_train_score'), which will not be available by default any more in 0.21. If you need training scores, please set return_train_score=True\n",
      "\n",
      "D:\\ProgramData\\Anaconda3\\lib\\site-packages\\sklearn\\utils\\deprecation.py:125: FutureWarning:\n",
      "\n",
      "You are accessing a training score ('split2_train_score'), which will not be available by default any more in 0.21. If you need training scores, please set return_train_score=True\n",
      "\n",
      "D:\\ProgramData\\Anaconda3\\lib\\site-packages\\sklearn\\utils\\deprecation.py:125: FutureWarning:\n",
      "\n",
      "You are accessing a training score ('split3_train_score'), which will not be available by default any more in 0.21. If you need training scores, please set return_train_score=True\n",
      "\n",
      "D:\\ProgramData\\Anaconda3\\lib\\site-packages\\sklearn\\utils\\deprecation.py:125: FutureWarning:\n",
      "\n",
      "You are accessing a training score ('split4_train_score'), which will not be available by default any more in 0.21. If you need training scores, please set return_train_score=True\n",
      "\n",
      "D:\\ProgramData\\Anaconda3\\lib\\site-packages\\sklearn\\utils\\deprecation.py:125: FutureWarning:\n",
      "\n",
      "You are accessing a training score ('mean_train_score'), which will not be available by default any more in 0.21. If you need training scores, please set return_train_score=True\n",
      "\n",
      "D:\\ProgramData\\Anaconda3\\lib\\site-packages\\sklearn\\utils\\deprecation.py:125: FutureWarning:\n",
      "\n",
      "You are accessing a training score ('std_train_score'), which will not be available by default any more in 0.21. If you need training scores, please set return_train_score=True\n",
      "\n"
     ]
    },
    {
     "data": {
      "text/html": [
       "<div>\n",
       "<style scoped>\n",
       "    .dataframe tbody tr th:only-of-type {\n",
       "        vertical-align: middle;\n",
       "    }\n",
       "\n",
       "    .dataframe tbody tr th {\n",
       "        vertical-align: top;\n",
       "    }\n",
       "\n",
       "    .dataframe thead th {\n",
       "        text-align: right;\n",
       "    }\n",
       "</style>\n",
       "<table border=\"1\" class=\"dataframe\">\n",
       "  <thead>\n",
       "    <tr style=\"text-align: right;\">\n",
       "      <th></th>\n",
       "      <th>mean_fit_time</th>\n",
       "      <th>std_fit_time</th>\n",
       "      <th>mean_score_time</th>\n",
       "      <th>std_score_time</th>\n",
       "      <th>param_batch_size</th>\n",
       "      <th>param_nb_epoch</th>\n",
       "      <th>params</th>\n",
       "      <th>split0_test_score</th>\n",
       "      <th>split1_test_score</th>\n",
       "      <th>split2_test_score</th>\n",
       "      <th>...</th>\n",
       "      <th>mean_test_score</th>\n",
       "      <th>std_test_score</th>\n",
       "      <th>rank_test_score</th>\n",
       "      <th>split0_train_score</th>\n",
       "      <th>split1_train_score</th>\n",
       "      <th>split2_train_score</th>\n",
       "      <th>split3_train_score</th>\n",
       "      <th>split4_train_score</th>\n",
       "      <th>mean_train_score</th>\n",
       "      <th>std_train_score</th>\n",
       "    </tr>\n",
       "  </thead>\n",
       "  <tbody>\n",
       "    <tr>\n",
       "      <th>0</th>\n",
       "      <td>11.866801</td>\n",
       "      <td>0.571173</td>\n",
       "      <td>0.714815</td>\n",
       "      <td>0.085923</td>\n",
       "      <td>5</td>\n",
       "      <td>5</td>\n",
       "      <td>{'batch_size': 5, 'nb_epoch': 5}</td>\n",
       "      <td>0.814839</td>\n",
       "      <td>0.786605</td>\n",
       "      <td>0.748523</td>\n",
       "      <td>...</td>\n",
       "      <td>0.782871</td>\n",
       "      <td>0.021792</td>\n",
       "      <td>12</td>\n",
       "      <td>0.802299</td>\n",
       "      <td>0.807225</td>\n",
       "      <td>0.804926</td>\n",
       "      <td>0.798555</td>\n",
       "      <td>0.795764</td>\n",
       "      <td>0.801754</td>\n",
       "      <td>0.004157</td>\n",
       "    </tr>\n",
       "    <tr>\n",
       "      <th>1</th>\n",
       "      <td>11.909189</td>\n",
       "      <td>0.399533</td>\n",
       "      <td>0.987507</td>\n",
       "      <td>0.079711</td>\n",
       "      <td>5</td>\n",
       "      <td>10</td>\n",
       "      <td>{'batch_size': 5, 'nb_epoch': 10}</td>\n",
       "      <td>0.811556</td>\n",
       "      <td>0.780696</td>\n",
       "      <td>0.782666</td>\n",
       "      <td>...</td>\n",
       "      <td>0.789045</td>\n",
       "      <td>0.014340</td>\n",
       "      <td>4</td>\n",
       "      <td>0.805090</td>\n",
       "      <td>0.804105</td>\n",
       "      <td>0.815928</td>\n",
       "      <td>0.807749</td>\n",
       "      <td>0.798884</td>\n",
       "      <td>0.806351</td>\n",
       "      <td>0.005587</td>\n",
       "    </tr>\n",
       "    <tr>\n",
       "      <th>2</th>\n",
       "      <td>13.456750</td>\n",
       "      <td>0.533441</td>\n",
       "      <td>1.333631</td>\n",
       "      <td>0.095626</td>\n",
       "      <td>5</td>\n",
       "      <td>20</td>\n",
       "      <td>{'batch_size': 5, 'nb_epoch': 20}</td>\n",
       "      <td>0.812213</td>\n",
       "      <td>0.781353</td>\n",
       "      <td>0.748523</td>\n",
       "      <td>...</td>\n",
       "      <td>0.783528</td>\n",
       "      <td>0.023521</td>\n",
       "      <td>11</td>\n",
       "      <td>0.810181</td>\n",
       "      <td>0.811002</td>\n",
       "      <td>0.813793</td>\n",
       "      <td>0.807913</td>\n",
       "      <td>0.787391</td>\n",
       "      <td>0.806056</td>\n",
       "      <td>0.009520</td>\n",
       "    </tr>\n",
       "    <tr>\n",
       "      <th>3</th>\n",
       "      <td>15.493069</td>\n",
       "      <td>0.501098</td>\n",
       "      <td>1.767592</td>\n",
       "      <td>0.114396</td>\n",
       "      <td>5</td>\n",
       "      <td>50</td>\n",
       "      <td>{'batch_size': 5, 'nb_epoch': 50}</td>\n",
       "      <td>0.804990</td>\n",
       "      <td>0.755745</td>\n",
       "      <td>0.747866</td>\n",
       "      <td>...</td>\n",
       "      <td>0.777355</td>\n",
       "      <td>0.023481</td>\n",
       "      <td>15</td>\n",
       "      <td>0.806240</td>\n",
       "      <td>0.808374</td>\n",
       "      <td>0.809852</td>\n",
       "      <td>0.807421</td>\n",
       "      <td>0.805615</td>\n",
       "      <td>0.807500</td>\n",
       "      <td>0.001513</td>\n",
       "    </tr>\n",
       "    <tr>\n",
       "      <th>4</th>\n",
       "      <td>12.092622</td>\n",
       "      <td>0.880719</td>\n",
       "      <td>2.051300</td>\n",
       "      <td>0.164088</td>\n",
       "      <td>10</td>\n",
       "      <td>5</td>\n",
       "      <td>{'batch_size': 10, 'nb_epoch': 5}</td>\n",
       "      <td>0.811556</td>\n",
       "      <td>0.748523</td>\n",
       "      <td>0.733421</td>\n",
       "      <td>...</td>\n",
       "      <td>0.774071</td>\n",
       "      <td>0.031307</td>\n",
       "      <td>16</td>\n",
       "      <td>0.803120</td>\n",
       "      <td>0.788177</td>\n",
       "      <td>0.798194</td>\n",
       "      <td>0.803809</td>\n",
       "      <td>0.795272</td>\n",
       "      <td>0.797714</td>\n",
       "      <td>0.005719</td>\n",
       "    </tr>\n",
       "    <tr>\n",
       "      <th>5</th>\n",
       "      <td>13.452891</td>\n",
       "      <td>0.361991</td>\n",
       "      <td>2.454702</td>\n",
       "      <td>0.116178</td>\n",
       "      <td>10</td>\n",
       "      <td>10</td>\n",
       "      <td>{'batch_size': 10, 'nb_epoch': 10}</td>\n",
       "      <td>0.820092</td>\n",
       "      <td>0.784636</td>\n",
       "      <td>0.761655</td>\n",
       "      <td>...</td>\n",
       "      <td>0.792198</td>\n",
       "      <td>0.020897</td>\n",
       "      <td>1</td>\n",
       "      <td>0.806897</td>\n",
       "      <td>0.802135</td>\n",
       "      <td>0.813957</td>\n",
       "      <td>0.809391</td>\n",
       "      <td>0.807749</td>\n",
       "      <td>0.808026</td>\n",
       "      <td>0.003824</td>\n",
       "    </tr>\n",
       "    <tr>\n",
       "      <th>6</th>\n",
       "      <td>15.389780</td>\n",
       "      <td>0.801511</td>\n",
       "      <td>2.938738</td>\n",
       "      <td>0.137965</td>\n",
       "      <td>10</td>\n",
       "      <td>20</td>\n",
       "      <td>{'batch_size': 10, 'nb_epoch': 20}</td>\n",
       "      <td>0.813526</td>\n",
       "      <td>0.776100</td>\n",
       "      <td>0.757058</td>\n",
       "      <td>...</td>\n",
       "      <td>0.782477</td>\n",
       "      <td>0.023670</td>\n",
       "      <td>13</td>\n",
       "      <td>0.803777</td>\n",
       "      <td>0.810345</td>\n",
       "      <td>0.814286</td>\n",
       "      <td>0.802660</td>\n",
       "      <td>0.805286</td>\n",
       "      <td>0.807271</td>\n",
       "      <td>0.004383</td>\n",
       "    </tr>\n",
       "    <tr>\n",
       "      <th>7</th>\n",
       "      <td>16.811928</td>\n",
       "      <td>0.714305</td>\n",
       "      <td>3.364942</td>\n",
       "      <td>0.178498</td>\n",
       "      <td>10</td>\n",
       "      <td>50</td>\n",
       "      <td>{'batch_size': 10, 'nb_epoch': 50}</td>\n",
       "      <td>0.799737</td>\n",
       "      <td>0.798424</td>\n",
       "      <td>0.764938</td>\n",
       "      <td>...</td>\n",
       "      <td>0.784973</td>\n",
       "      <td>0.016971</td>\n",
       "      <td>9</td>\n",
       "      <td>0.792775</td>\n",
       "      <td>0.807061</td>\n",
       "      <td>0.815271</td>\n",
       "      <td>0.814645</td>\n",
       "      <td>0.794943</td>\n",
       "      <td>0.804939</td>\n",
       "      <td>0.009522</td>\n",
       "    </tr>\n",
       "    <tr>\n",
       "      <th>8</th>\n",
       "      <td>12.182298</td>\n",
       "      <td>0.533353</td>\n",
       "      <td>3.498522</td>\n",
       "      <td>0.142829</td>\n",
       "      <td>50</td>\n",
       "      <td>5</td>\n",
       "      <td>{'batch_size': 50, 'nb_epoch': 5}</td>\n",
       "      <td>0.816152</td>\n",
       "      <td>0.780039</td>\n",
       "      <td>0.766907</td>\n",
       "      <td>...</td>\n",
       "      <td>0.788257</td>\n",
       "      <td>0.018351</td>\n",
       "      <td>5</td>\n",
       "      <td>0.800985</td>\n",
       "      <td>0.803120</td>\n",
       "      <td>0.814286</td>\n",
       "      <td>0.807092</td>\n",
       "      <td>0.801182</td>\n",
       "      <td>0.805333</td>\n",
       "      <td>0.004986</td>\n",
       "    </tr>\n",
       "    <tr>\n",
       "      <th>9</th>\n",
       "      <td>13.973592</td>\n",
       "      <td>0.593136</td>\n",
       "      <td>4.047847</td>\n",
       "      <td>0.151543</td>\n",
       "      <td>50</td>\n",
       "      <td>10</td>\n",
       "      <td>{'batch_size': 50, 'nb_epoch': 10}</td>\n",
       "      <td>0.803677</td>\n",
       "      <td>0.783322</td>\n",
       "      <td>0.766251</td>\n",
       "      <td>...</td>\n",
       "      <td>0.785104</td>\n",
       "      <td>0.016484</td>\n",
       "      <td>7</td>\n",
       "      <td>0.798522</td>\n",
       "      <td>0.800164</td>\n",
       "      <td>0.809852</td>\n",
       "      <td>0.803973</td>\n",
       "      <td>0.801346</td>\n",
       "      <td>0.802772</td>\n",
       "      <td>0.003961</td>\n",
       "    </tr>\n",
       "    <tr>\n",
       "      <th>10</th>\n",
       "      <td>15.781008</td>\n",
       "      <td>0.570284</td>\n",
       "      <td>4.579764</td>\n",
       "      <td>0.283791</td>\n",
       "      <td>50</td>\n",
       "      <td>20</td>\n",
       "      <td>{'batch_size': 50, 'nb_epoch': 20}</td>\n",
       "      <td>0.807617</td>\n",
       "      <td>0.779383</td>\n",
       "      <td>0.770190</td>\n",
       "      <td>...</td>\n",
       "      <td>0.786418</td>\n",
       "      <td>0.017705</td>\n",
       "      <td>6</td>\n",
       "      <td>0.794253</td>\n",
       "      <td>0.801642</td>\n",
       "      <td>0.808539</td>\n",
       "      <td>0.806436</td>\n",
       "      <td>0.800854</td>\n",
       "      <td>0.802345</td>\n",
       "      <td>0.004966</td>\n",
       "    </tr>\n",
       "    <tr>\n",
       "      <th>11</th>\n",
       "      <td>17.857250</td>\n",
       "      <td>0.695054</td>\n",
       "      <td>5.198218</td>\n",
       "      <td>0.229727</td>\n",
       "      <td>50</td>\n",
       "      <td>50</td>\n",
       "      <td>{'batch_size': 50, 'nb_epoch': 50}</td>\n",
       "      <td>0.817466</td>\n",
       "      <td>0.775443</td>\n",
       "      <td>0.765594</td>\n",
       "      <td>...</td>\n",
       "      <td>0.785104</td>\n",
       "      <td>0.021831</td>\n",
       "      <td>8</td>\n",
       "      <td>0.796223</td>\n",
       "      <td>0.804598</td>\n",
       "      <td>0.804269</td>\n",
       "      <td>0.797406</td>\n",
       "      <td>0.791660</td>\n",
       "      <td>0.798831</td>\n",
       "      <td>0.004962</td>\n",
       "    </tr>\n",
       "    <tr>\n",
       "      <th>12</th>\n",
       "      <td>19.910920</td>\n",
       "      <td>0.592688</td>\n",
       "      <td>5.791677</td>\n",
       "      <td>0.154605</td>\n",
       "      <td>100</td>\n",
       "      <td>5</td>\n",
       "      <td>{'batch_size': 100, 'nb_epoch': 5}</td>\n",
       "      <td>0.816152</td>\n",
       "      <td>0.789888</td>\n",
       "      <td>0.764938</td>\n",
       "      <td>...</td>\n",
       "      <td>0.790884</td>\n",
       "      <td>0.016551</td>\n",
       "      <td>2</td>\n",
       "      <td>0.786371</td>\n",
       "      <td>0.796552</td>\n",
       "      <td>0.803448</td>\n",
       "      <td>0.796749</td>\n",
       "      <td>0.795928</td>\n",
       "      <td>0.795810</td>\n",
       "      <td>0.005457</td>\n",
       "    </tr>\n",
       "    <tr>\n",
       "      <th>13</th>\n",
       "      <td>22.594112</td>\n",
       "      <td>0.874444</td>\n",
       "      <td>6.544712</td>\n",
       "      <td>0.240258</td>\n",
       "      <td>100</td>\n",
       "      <td>10</td>\n",
       "      <td>{'batch_size': 100, 'nb_epoch': 10}</td>\n",
       "      <td>0.816152</td>\n",
       "      <td>0.776756</td>\n",
       "      <td>0.762311</td>\n",
       "      <td>...</td>\n",
       "      <td>0.789176</td>\n",
       "      <td>0.019169</td>\n",
       "      <td>3</td>\n",
       "      <td>0.786043</td>\n",
       "      <td>0.794581</td>\n",
       "      <td>0.806732</td>\n",
       "      <td>0.799376</td>\n",
       "      <td>0.799212</td>\n",
       "      <td>0.797189</td>\n",
       "      <td>0.006797</td>\n",
       "    </tr>\n",
       "    <tr>\n",
       "      <th>14</th>\n",
       "      <td>24.977255</td>\n",
       "      <td>0.681659</td>\n",
       "      <td>7.311024</td>\n",
       "      <td>0.199573</td>\n",
       "      <td>100</td>\n",
       "      <td>20</td>\n",
       "      <td>{'batch_size': 100, 'nb_epoch': 20}</td>\n",
       "      <td>0.809586</td>\n",
       "      <td>0.782009</td>\n",
       "      <td>0.761655</td>\n",
       "      <td>...</td>\n",
       "      <td>0.781164</td>\n",
       "      <td>0.019688</td>\n",
       "      <td>14</td>\n",
       "      <td>0.793596</td>\n",
       "      <td>0.788998</td>\n",
       "      <td>0.805583</td>\n",
       "      <td>0.801346</td>\n",
       "      <td>0.798063</td>\n",
       "      <td>0.797517</td>\n",
       "      <td>0.005796</td>\n",
       "    </tr>\n",
       "    <tr>\n",
       "      <th>15</th>\n",
       "      <td>27.162986</td>\n",
       "      <td>0.650732</td>\n",
       "      <td>8.208093</td>\n",
       "      <td>0.291614</td>\n",
       "      <td>100</td>\n",
       "      <td>50</td>\n",
       "      <td>{'batch_size': 100, 'nb_epoch': 50}</td>\n",
       "      <td>0.808273</td>\n",
       "      <td>0.789232</td>\n",
       "      <td>0.757058</td>\n",
       "      <td>...</td>\n",
       "      <td>0.783922</td>\n",
       "      <td>0.023064</td>\n",
       "      <td>10</td>\n",
       "      <td>0.787192</td>\n",
       "      <td>0.795074</td>\n",
       "      <td>0.798030</td>\n",
       "      <td>0.801018</td>\n",
       "      <td>0.788869</td>\n",
       "      <td>0.794036</td>\n",
       "      <td>0.005278</td>\n",
       "    </tr>\n",
       "  </tbody>\n",
       "</table>\n",
       "<p>16 rows × 22 columns</p>\n",
       "</div>"
      ],
      "text/plain": [
       "    mean_fit_time  std_fit_time  mean_score_time  std_score_time  \\\n",
       "0       11.866801      0.571173         0.714815        0.085923   \n",
       "1       11.909189      0.399533         0.987507        0.079711   \n",
       "2       13.456750      0.533441         1.333631        0.095626   \n",
       "3       15.493069      0.501098         1.767592        0.114396   \n",
       "4       12.092622      0.880719         2.051300        0.164088   \n",
       "5       13.452891      0.361991         2.454702        0.116178   \n",
       "6       15.389780      0.801511         2.938738        0.137965   \n",
       "7       16.811928      0.714305         3.364942        0.178498   \n",
       "8       12.182298      0.533353         3.498522        0.142829   \n",
       "9       13.973592      0.593136         4.047847        0.151543   \n",
       "10      15.781008      0.570284         4.579764        0.283791   \n",
       "11      17.857250      0.695054         5.198218        0.229727   \n",
       "12      19.910920      0.592688         5.791677        0.154605   \n",
       "13      22.594112      0.874444         6.544712        0.240258   \n",
       "14      24.977255      0.681659         7.311024        0.199573   \n",
       "15      27.162986      0.650732         8.208093        0.291614   \n",
       "\n",
       "   param_batch_size param_nb_epoch                               params  \\\n",
       "0                 5              5     {'batch_size': 5, 'nb_epoch': 5}   \n",
       "1                 5             10    {'batch_size': 5, 'nb_epoch': 10}   \n",
       "2                 5             20    {'batch_size': 5, 'nb_epoch': 20}   \n",
       "3                 5             50    {'batch_size': 5, 'nb_epoch': 50}   \n",
       "4                10              5    {'batch_size': 10, 'nb_epoch': 5}   \n",
       "5                10             10   {'batch_size': 10, 'nb_epoch': 10}   \n",
       "6                10             20   {'batch_size': 10, 'nb_epoch': 20}   \n",
       "7                10             50   {'batch_size': 10, 'nb_epoch': 50}   \n",
       "8                50              5    {'batch_size': 50, 'nb_epoch': 5}   \n",
       "9                50             10   {'batch_size': 50, 'nb_epoch': 10}   \n",
       "10               50             20   {'batch_size': 50, 'nb_epoch': 20}   \n",
       "11               50             50   {'batch_size': 50, 'nb_epoch': 50}   \n",
       "12              100              5   {'batch_size': 100, 'nb_epoch': 5}   \n",
       "13              100             10  {'batch_size': 100, 'nb_epoch': 10}   \n",
       "14              100             20  {'batch_size': 100, 'nb_epoch': 20}   \n",
       "15              100             50  {'batch_size': 100, 'nb_epoch': 50}   \n",
       "\n",
       "    split0_test_score  split1_test_score  split2_test_score  ...  \\\n",
       "0            0.814839           0.786605           0.748523  ...   \n",
       "1            0.811556           0.780696           0.782666  ...   \n",
       "2            0.812213           0.781353           0.748523  ...   \n",
       "3            0.804990           0.755745           0.747866  ...   \n",
       "4            0.811556           0.748523           0.733421  ...   \n",
       "5            0.820092           0.784636           0.761655  ...   \n",
       "6            0.813526           0.776100           0.757058  ...   \n",
       "7            0.799737           0.798424           0.764938  ...   \n",
       "8            0.816152           0.780039           0.766907  ...   \n",
       "9            0.803677           0.783322           0.766251  ...   \n",
       "10           0.807617           0.779383           0.770190  ...   \n",
       "11           0.817466           0.775443           0.765594  ...   \n",
       "12           0.816152           0.789888           0.764938  ...   \n",
       "13           0.816152           0.776756           0.762311  ...   \n",
       "14           0.809586           0.782009           0.761655  ...   \n",
       "15           0.808273           0.789232           0.757058  ...   \n",
       "\n",
       "    mean_test_score  std_test_score  rank_test_score  split0_train_score  \\\n",
       "0          0.782871        0.021792               12            0.802299   \n",
       "1          0.789045        0.014340                4            0.805090   \n",
       "2          0.783528        0.023521               11            0.810181   \n",
       "3          0.777355        0.023481               15            0.806240   \n",
       "4          0.774071        0.031307               16            0.803120   \n",
       "5          0.792198        0.020897                1            0.806897   \n",
       "6          0.782477        0.023670               13            0.803777   \n",
       "7          0.784973        0.016971                9            0.792775   \n",
       "8          0.788257        0.018351                5            0.800985   \n",
       "9          0.785104        0.016484                7            0.798522   \n",
       "10         0.786418        0.017705                6            0.794253   \n",
       "11         0.785104        0.021831                8            0.796223   \n",
       "12         0.790884        0.016551                2            0.786371   \n",
       "13         0.789176        0.019169                3            0.786043   \n",
       "14         0.781164        0.019688               14            0.793596   \n",
       "15         0.783922        0.023064               10            0.787192   \n",
       "\n",
       "    split1_train_score  split2_train_score  split3_train_score  \\\n",
       "0             0.807225            0.804926            0.798555   \n",
       "1             0.804105            0.815928            0.807749   \n",
       "2             0.811002            0.813793            0.807913   \n",
       "3             0.808374            0.809852            0.807421   \n",
       "4             0.788177            0.798194            0.803809   \n",
       "5             0.802135            0.813957            0.809391   \n",
       "6             0.810345            0.814286            0.802660   \n",
       "7             0.807061            0.815271            0.814645   \n",
       "8             0.803120            0.814286            0.807092   \n",
       "9             0.800164            0.809852            0.803973   \n",
       "10            0.801642            0.808539            0.806436   \n",
       "11            0.804598            0.804269            0.797406   \n",
       "12            0.796552            0.803448            0.796749   \n",
       "13            0.794581            0.806732            0.799376   \n",
       "14            0.788998            0.805583            0.801346   \n",
       "15            0.795074            0.798030            0.801018   \n",
       "\n",
       "    split4_train_score  mean_train_score  std_train_score  \n",
       "0             0.795764          0.801754         0.004157  \n",
       "1             0.798884          0.806351         0.005587  \n",
       "2             0.787391          0.806056         0.009520  \n",
       "3             0.805615          0.807500         0.001513  \n",
       "4             0.795272          0.797714         0.005719  \n",
       "5             0.807749          0.808026         0.003824  \n",
       "6             0.805286          0.807271         0.004383  \n",
       "7             0.794943          0.804939         0.009522  \n",
       "8             0.801182          0.805333         0.004986  \n",
       "9             0.801346          0.802772         0.003961  \n",
       "10            0.800854          0.802345         0.004966  \n",
       "11            0.791660          0.798831         0.004962  \n",
       "12            0.795928          0.795810         0.005457  \n",
       "13            0.799212          0.797189         0.006797  \n",
       "14            0.798063          0.797517         0.005796  \n",
       "15            0.788869          0.794036         0.005278  \n",
       "\n",
       "[16 rows x 22 columns]"
      ]
     },
     "execution_count": 12,
     "metadata": {},
     "output_type": "execute_result"
    }
   ],
   "source": [
    "#查看训练结果信息\n",
    "results= pd.DataFrame(grid_result.cv_results_)\n",
    "results.head(16)"
   ]
  },
  {
   "cell_type": "code",
   "execution_count": 13,
   "metadata": {},
   "outputs": [
    {
     "data": {
      "text/plain": [
       "<matplotlib.axes._subplots.AxesSubplot at 0x18a17085668>"
      ]
     },
     "execution_count": 13,
     "metadata": {},
     "output_type": "execute_result"
    },
    {
     "data": {
      "image/png": "[encoded data removed]",
      "text/plain": [
       "<Figure size 432x288 with 1 Axes>"
      ]
     },
     "metadata": {
      "needs_background": "light"
     },
     "output_type": "display_data"
    }
   ],
   "source": [
    "#不同参数组合的准确率图像\n",
    "results[['mean_train_score','mean_test_score']].plot(ylim=[0.75,0.85])"
   ]
  },
  {
   "cell_type": "code",
   "execution_count": 14,
   "metadata": {},
   "outputs": [
    {
     "name": "stdout",
     "output_type": "stream",
     "text": [
      "交叉验证平均准确率：\n",
      " 0.7921975544580065\n",
      "最好的参数模型：\n",
      " {'batch_size': 10, 'nb_epoch': 10}\n"
     ]
    }
   ],
   "source": [
    "#模型评估\n",
    "#评估查看最终选择的结果和交叉验证的结果\n",
    "print(\"交叉验证平均准确率：\\n\", grid_result.best_score_)\n",
    "print(\"最好的参数模型：\\n\", grid_result.best_params_)"
   ]
  },
  {
   "cell_type": "code",
   "execution_count": 15,
   "metadata": {},
   "outputs": [],
   "source": [
    "#划分训练集测试集\n",
    "from sklearn.model_selection import train_test_split\n",
    "X_train,X_test,y_train,y_test=train_test_split(training_padded,train['target'].values,test_size=0.2)"
   ]
  },
  {
   "cell_type": "code",
   "execution_count": 16,
   "metadata": {},
   "outputs": [
    {
     "name": "stderr",
     "output_type": "stream",
     "text": [
      "D:\\ProgramData\\Anaconda3\\lib\\site-packages\\sklearn\\svm\\base.py:196: FutureWarning:\n",
      "\n",
      "The default value of gamma will change from 'auto' to 'scale' in version 0.22 to account better for unscaled features. Set gamma explicitly to 'auto' or 'scale' to avoid this warning.\n",
      "\n",
      "D:\\ProgramData\\Anaconda3\\lib\\site-packages\\sklearn\\ensemble\\forest.py:248: FutureWarning:\n",
      "\n",
      "The default value of n_estimators will change from 10 in version 0.20 to 100 in 0.22.\n",
      "\n"
     ]
    },
    {
     "data": {
      "text/plain": [
       "GradientBoostingClassifier(criterion='friedman_mse', init=None,\n",
       "              learning_rate=0.1, loss='deviance', max_depth=3,\n",
       "              max_features=None, max_leaf_nodes=None,\n",
       "              min_impurity_decrease=0.0, min_impurity_split=None,\n",
       "              min_samples_leaf=1, min_samples_split=2,\n",
       "              min_weight_fraction_leaf=0.0, n_estimators=100,\n",
       "              n_iter_no_change=None, presort='auto', random_state=None,\n",
       "              subsample=1.0, tol=0.0001, validation_fraction=0.1,\n",
       "              verbose=0, warm_start=False)"
      ]
     },
     "execution_count": 16,
     "metadata": {},
     "output_type": "execute_result"
    }
   ],
   "source": [
    "#对比SVM,KNN,多层感知器,朴素贝叶斯，随机森林方法\n",
    "from sklearn.feature_extraction.text import CountVectorizer, TfidfVectorizer\n",
    "from sklearn.model_selection import train_test_split\n",
    "from sklearn import svm,neighbors,neural_network,naive_bayes,ensemble\n",
    "from sklearn import metrics\n",
    "from sklearn.metrics import classification_report\n",
    "from sklearn.model_selection import *\n",
    "\n",
    "model1= svm.SVC()\n",
    "model1.fit(X_train,y_train)\n",
    "predict1=model1.predict(X_test)\n",
    "\n",
    "model2=neighbors.KNeighborsClassifier()\n",
    "model2.fit(X_train,y_train)\n",
    "\n",
    "model3=neural_network.MLPClassifier()\n",
    "model3.fit(X_train,y_train)\n",
    "\n",
    "model4=naive_bayes.GaussianNB()\n",
    "model4.fit(X_train,y_train)\n",
    "\n",
    "model5=ensemble.RandomForestClassifier()\n",
    "model5.fit(X_train,y_train)\n",
    "\n",
    "model6=ensemble.GradientBoostingClassifier()\n",
    "model6.fit(X_train,y_train)\n"
   ]
  },
  {
   "cell_type": "code",
   "execution_count": 18,
   "metadata": {},
   "outputs": [
    {
     "name": "stdout",
     "output_type": "stream",
     "text": [
      "模型1验证集准确率: 0.6250820748522653\n",
      "模型2验证集准确率: 0.5843729481286933\n",
      "模型3验证集准确率: 0.5384110308601444\n",
      "模型4验证集准确率: 0.4799737360472751\n",
      "模型5验证集准确率: 0.6323046618516087\n",
      "模型6验证集准确率: 0.6401838476690742\n"
     ]
    }
   ],
   "source": [
    "#模型评估\n",
    "print('模型1验证集准确率:',model1.score(X_test, y_test))\n",
    "print('模型2验证集准确率:',model2.score(X_test, y_test))\n",
    "print('模型3验证集准确率:',model3.score(X_test, y_test))\n",
    "print('模型4验证集准确率:',model4.score(X_test, y_test))\n",
    "print('模型5验证集准确率:',model5.score(X_test, y_test))\n",
    "print('模型6验证集准确率:',model6.score(X_test, y_test))\n",
    "#print('模型1测试集AUC:',metrics.roc_auc_score(y_test,predict1))"
   ]
  },
  {
   "cell_type": "code",
   "execution_count": 80,
   "metadata": {},
   "outputs": [],
   "source": [
    "#test.csv结果预测\n",
    "test = pd.read_csv(\"D:/机器学习/NLP/nlp-getting-started/test.csv\")\n",
    "testing_sequences = tokenizer.texts_to_sequences(test.text)\n",
    "testing_padded = pad_sequences(testing_sequences, maxlen=MAX_LEN, padding='post', truncating='post')\n",
    "predictions = grid_result.predict(testing_padded)"
   ]
  },
  {
   "cell_type": "code",
   "execution_count": 81,
   "metadata": {},
   "outputs": [
    {
     "data": {
      "text/html": [
       "<div>\n",
       "<style scoped>\n",
       "    .dataframe tbody tr th:only-of-type {\n",
       "        vertical-align: middle;\n",
       "    }\n",
       "\n",
       "    .dataframe tbody tr th {\n",
       "        vertical-align: top;\n",
       "    }\n",
       "\n",
       "    .dataframe thead th {\n",
       "        text-align: right;\n",
       "    }\n",
       "</style>\n",
       "<table border=\"1\" class=\"dataframe\">\n",
       "  <thead>\n",
       "    <tr style=\"text-align: right;\">\n",
       "      <th></th>\n",
       "      <th>id</th>\n",
       "      <th>target</th>\n",
       "    </tr>\n",
       "  </thead>\n",
       "  <tbody>\n",
       "    <tr>\n",
       "      <th>0</th>\n",
       "      <td>0</td>\n",
       "      <td>1</td>\n",
       "    </tr>\n",
       "    <tr>\n",
       "      <th>1</th>\n",
       "      <td>2</td>\n",
       "      <td>0</td>\n",
       "    </tr>\n",
       "    <tr>\n",
       "      <th>2</th>\n",
       "      <td>3</td>\n",
       "      <td>1</td>\n",
       "    </tr>\n",
       "    <tr>\n",
       "      <th>3</th>\n",
       "      <td>9</td>\n",
       "      <td>0</td>\n",
       "    </tr>\n",
       "    <tr>\n",
       "      <th>4</th>\n",
       "      <td>11</td>\n",
       "      <td>1</td>\n",
       "    </tr>\n",
       "    <tr>\n",
       "      <th>...</th>\n",
       "      <td>...</td>\n",
       "      <td>...</td>\n",
       "    </tr>\n",
       "    <tr>\n",
       "      <th>3258</th>\n",
       "      <td>10861</td>\n",
       "      <td>1</td>\n",
       "    </tr>\n",
       "    <tr>\n",
       "      <th>3259</th>\n",
       "      <td>10865</td>\n",
       "      <td>1</td>\n",
       "    </tr>\n",
       "    <tr>\n",
       "      <th>3260</th>\n",
       "      <td>10868</td>\n",
       "      <td>0</td>\n",
       "    </tr>\n",
       "    <tr>\n",
       "      <th>3261</th>\n",
       "      <td>10874</td>\n",
       "      <td>0</td>\n",
       "    </tr>\n",
       "    <tr>\n",
       "      <th>3262</th>\n",
       "      <td>10875</td>\n",
       "      <td>0</td>\n",
       "    </tr>\n",
       "  </tbody>\n",
       "</table>\n",
       "<p>3263 rows × 2 columns</p>\n",
       "</div>"
      ],
      "text/plain": [
       "         id  target\n",
       "0         0       1\n",
       "1         2       0\n",
       "2         3       1\n",
       "3         9       0\n",
       "4        11       1\n",
       "...     ...     ...\n",
       "3258  10861       1\n",
       "3259  10865       1\n",
       "3260  10868       0\n",
       "3261  10874       0\n",
       "3262  10875       0\n",
       "\n",
       "[3263 rows x 2 columns]"
      ]
     },
     "execution_count": 81,
     "metadata": {},
     "output_type": "execute_result"
    }
   ],
   "source": [
    "submission['target'] = (predictions > 0.5).astype(int)\n",
    "submission"
   ]
  },
  {
   "cell_type": "code",
   "execution_count": 82,
   "metadata": {},
   "outputs": [],
   "source": [
    "submission.to_csv(\"submission.csv\", index=False, header=True)"
   ]
  },
  {
   "cell_type": "code",
   "execution_count": null,
   "metadata": {},
   "outputs": [],
   "source": []
  }
 ],
 "metadata": {
  "kernelspec": {
   "display_name": "Python 3",
   "language": "python",
   "name": "python3"
  },
  "language_info": {
   "codemirror_mode": {
    "name": "ipython",
    "version": 3
   },
   "file_extension": ".py",
   "mimetype": "text/x-python",
   "name": "python",
   "nbconvert_exporter": "python",
   "pygments_lexer": "ipython3",
   "version": "3.6.4"
  }
 },
 "nbformat": 4,
 "nbformat_minor": 2
}
